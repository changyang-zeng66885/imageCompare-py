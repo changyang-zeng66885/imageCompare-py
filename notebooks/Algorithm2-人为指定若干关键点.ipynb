{
 "cells": [
  {
   "cell_type": "markdown",
   "id": "83fc662e",
   "metadata": {},
   "source": [
    "# Algorithm2-人为指定若干关键点"
   ]
  },
  {
   "cell_type": "code",
   "execution_count": 8,
   "id": "a98849ac",
   "metadata": {},
   "outputs": [
    {
     "ename": "error",
     "evalue": "OpenCV(4.10.0) D:\\a\\opencv-python\\opencv-python\\opencv\\modules\\flann\\src\\miniflann.cpp:522: error: (-215:Assertion failed) query.type() == type && indices.type() == CV_32S && dists.type() == dtype in function 'cv::flann::runKnnSearch_'\n",
     "output_type": "error",
     "traceback": [
      "\u001b[1;31m---------------------------------------------------------------------------\u001b[0m",
      "\u001b[1;31merror\u001b[0m                                     Traceback (most recent call last)",
      "Cell \u001b[1;32mIn[8], line 34\u001b[0m\n\u001b[0;32m     31\u001b[0m search_params \u001b[38;5;241m=\u001b[39m \u001b[38;5;28mdict\u001b[39m(checks\u001b[38;5;241m=\u001b[39m\u001b[38;5;241m50\u001b[39m)\n\u001b[0;32m     33\u001b[0m flann \u001b[38;5;241m=\u001b[39m cv2\u001b[38;5;241m.\u001b[39mFlannBasedMatcher(index_params, search_params)\n\u001b[1;32m---> 34\u001b[0m matches \u001b[38;5;241m=\u001b[39m \u001b[43mflann\u001b[49m\u001b[38;5;241;43m.\u001b[39;49m\u001b[43mknnMatch\u001b[49m\u001b[43m(\u001b[49m\u001b[43mdes1\u001b[49m\u001b[43m,\u001b[49m\u001b[43m \u001b[49m\u001b[43mdes2\u001b[49m\u001b[43m,\u001b[49m\u001b[43m \u001b[49m\u001b[43mk\u001b[49m\u001b[38;5;241;43m=\u001b[39;49m\u001b[38;5;241;43m2\u001b[39;49m\u001b[43m)\u001b[49m\n\u001b[0;32m     36\u001b[0m \u001b[38;5;66;03m# 使用Lowe's ratio test来筛选匹配点\u001b[39;00m\n\u001b[0;32m     37\u001b[0m good_matches \u001b[38;5;241m=\u001b[39m []\n",
      "\u001b[1;31merror\u001b[0m: OpenCV(4.10.0) D:\\a\\opencv-python\\opencv-python\\opencv\\modules\\flann\\src\\miniflann.cpp:522: error: (-215:Assertion failed) query.type() == type && indices.type() == CV_32S && dists.type() == dtype in function 'cv::flann::runKnnSearch_'\n"
     ]
    }
   ],
   "source": [
    "import cv2\n",
    "import numpy as np\n",
    "import matplotlib.pyplot as plt\n",
    "\n",
    "# 读取两张图片\n",
    "img1 = cv2.imread('images/image1.jpg')\n",
    "img2 = cv2.imread('images/image2.jpg')\n",
    "\n",
    "# 将图片转换为灰度图\n",
    "gray1 = cv2.cvtColor(img1, cv2.COLOR_BGR2GRAY)\n",
    "gray2 = cv2.cvtColor(img2, cv2.COLOR_BGR2GRAY)\n",
    "\n",
    "# 手动指定图像1中的关键点坐标 (x, y)\n",
    "manual_points = [(453, 181), (1257, 121), (1137,1669),(529,1597)]  # 示例坐标\n",
    "\n",
    "# 将手动指定的点转换为KeyPoint对象\n",
    "kp1 = [cv2.KeyPoint(x=float(x), y=float(y),size=1) for (x, y) in manual_points]\n",
    "\n",
    "# 初始化ORB检测器\n",
    "orb = cv2.ORB_create()\n",
    "# 计算手动关键点的描述符\n",
    "kp1, des1 = orb.compute(gray1, kp1)\n",
    "\n",
    "# 在图像2中检测所有关键点和描述符\n",
    "sift = cv2.SIFT_create()\n",
    "kp2, des2 = sift.detectAndCompute(gray2, None)\n",
    "\n",
    "# 使用FLANN匹配器进行匹配\n",
    "FLANN_INDEX_KDTREE = 1\n",
    "index_params = dict(algorithm=FLANN_INDEX_KDTREE, trees=5)\n",
    "search_params = dict(checks=50)\n",
    "\n",
    "flann = cv2.FlannBasedMatcher(index_params, search_params)\n",
    "matches = flann.knnMatch(des1, des2, k=2)\n",
    "\n",
    "# 使用Lowe's ratio test来筛选匹配点\n",
    "good_matches = []\n",
    "for m, n in matches:\n",
    "    if m.distance < 0.7 * n.distance:\n",
    "        good_matches.append(m)\n",
    "\n",
    "# 提取匹配点坐标\n",
    "points1 = np.float32([kp1[m.queryIdx].pt for m in good_matches]).reshape(-1, 1, 2)\n",
    "points2 = np.float32([kp2[m.trainIdx].pt for m in good_matches]).reshape(-1, 1, 2)\n",
    "\n",
    "# 计算单应性矩阵\n",
    "H, mask = cv2.findHomography(points1, points2, cv2.RANSAC, 5.0)\n",
    "matchesMask = mask.ravel().tolist()\n",
    "\n",
    "# 使用单应性矩阵对第一张图片进行透视变换\n",
    "# height, width, channels = image2.shape\n",
    "# im1_reg = cv2.warpPerspective(image1, H, (width, height))\n",
    "\n",
    "# 计算关键点位置的变化\n",
    "point_changes = []\n",
    "for i, match in enumerate(good_matches):\n",
    "    if matchesMask[i]:\n",
    "        pt1 = np.array(kp1[match.queryIdx].pt)\n",
    "        pt2 = np.array(kp2[match.trainIdx].pt)\n",
    "        point_changes.append((pt1, pt2, np.linalg.norm(pt1 - pt2)))\n",
    "\n",
    "# 定义绘制参数\n",
    "keypoint_size = 10\n",
    "line_thickness = 5\n",
    "\n",
    "# 在图片上绘制关键点和匹配线\n",
    "image1_with_kp = cv2.drawKeypoints(image1, kp1, None, color=(0, 255, 0), flags=cv2.DRAW_MATCHES_FLAGS_DRAW_RICH_KEYPOINTS)\n",
    "image2_with_kp = cv2.drawKeypoints(image2, kp2, None, color=(0, 255, 0), flags=cv2.DRAW_MATCHES_FLAGS_DRAW_RICH_KEYPOINTS)\n",
    "\n",
    "# 绘制匹配线条\n",
    "for i, match in enumerate(good_matches):\n",
    "    if matchesMask[i]:\n",
    "        pt1 = tuple(np.round(kp1[match.queryIdx].pt).astype(int))\n",
    "        pt2 = tuple(np.round(kp2[match.trainIdx].pt).astype(int) + np.array([image1.shape[1], 0]))\n",
    "        cv2.circle(image1_with_kp, pt1, keypoint_size, (0, 0, 255), -1)\n",
    "        cv2.circle(image2_with_kp, pt2 - np.array([image1.shape[1], 0]), keypoint_size, (0, 0, 255), -1)\n",
    "        cv2.line(image2_with_kp, pt1, pt2 - np.array([image1.shape[1], 0]), (255, 0, 0), line_thickness)\n",
    "\n",
    "# 合并两张图片用于显示匹配\n",
    "combined_image = np.hstack((image1_with_kp, image2_with_kp))\n",
    "\n",
    "# 显示结果\n",
    "plt.figure(figsize=(20, 10))\n",
    "plt.title('Keypoints and Matches')\n",
    "plt.imshow(cv2.cvtColor(combined_image, cv2.COLOR_BGR2RGB))\n",
    "plt.show()"
   ]
  },
  {
   "cell_type": "code",
   "execution_count": null,
   "id": "854d8e5a",
   "metadata": {},
   "outputs": [],
   "source": []
  }
 ],
 "metadata": {
  "kernelspec": {
   "display_name": "Python 3 (ipykernel)",
   "language": "python",
   "name": "python3"
  },
  "language_info": {
   "codemirror_mode": {
    "name": "ipython",
    "version": 3
   },
   "file_extension": ".py",
   "mimetype": "text/x-python",
   "name": "python",
   "nbconvert_exporter": "python",
   "pygments_lexer": "ipython3",
   "version": "3.10.9"
  }
 },
 "nbformat": 4,
 "nbformat_minor": 5
}
